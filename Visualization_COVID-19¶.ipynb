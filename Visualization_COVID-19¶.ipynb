{
 "cells": [
  {
   "cell_type": "markdown",
   "metadata": {},
   "source": [
    "# EDA-Visualization_COVID-19"
   ]
  },
  {
   "cell_type": "markdown",
   "metadata": {},
   "source": [
    "## Programming Language: R"
   ]
  },
  {
   "cell_type": "code",
   "execution_count": 5,
   "metadata": {},
   "outputs": [],
   "source": [
    "library(readr)\n",
    "library(ggplot2)\n",
    "library(dplyr)\n",
    "library(tidyverse)"
   ]
  },
  {
   "cell_type": "code",
   "execution_count": 6,
   "metadata": {},
   "outputs": [
    {
     "name": "stderr",
     "output_type": "stream",
     "text": [
      "\u001b[1m\u001b[1mRows: \u001b[1m\u001b[22m\u001b[34m\u001b[34m56\u001b[34m\u001b[39m \u001b[1m\u001b[1mColumns: \u001b[1m\u001b[22m\u001b[34m\u001b[34m2\u001b[34m\u001b[39m\n",
      "\n",
      "\u001b[36m--\u001b[39m \u001b[1m\u001b[1mColumn specification\u001b[1m\u001b[22m \u001b[36m------------------------------------------------------------------------------------------------\u001b[39m\n",
      "\u001b[1mDelimiter:\u001b[22m \",\"\n",
      "\u001b[32mdbl\u001b[39m  (1): cum_cases\n",
      "\u001b[34mdate\u001b[39m (1): date\n",
      "\n",
      "\n",
      "\u001b[36mi\u001b[39m Use \u001b[30m\u001b[47m\u001b[30m\u001b[47m`spec()`\u001b[47m\u001b[30m\u001b[49m\u001b[39m to retrieve the full column specification for this data.\n",
      "\u001b[36mi\u001b[39m Specify the column types or set \u001b[30m\u001b[47m\u001b[30m\u001b[47m`show_col_types = FALSE`\u001b[47m\u001b[30m\u001b[49m\u001b[39m to quiet this message.\n",
      "\n"
     ]
    }
   ],
   "source": [
    "confirmed_cases_worldwide <- read_csv(\"datasets/confirmed_cases_worldwide.csv\")"
   ]
  },
  {
   "cell_type": "code",
   "execution_count": 7,
   "metadata": {},
   "outputs": [
    {
     "data": {
      "text/html": [
       "<table class=\"dataframe\">\n",
       "<caption>A tibble: 6 × 2</caption>\n",
       "<thead>\n",
       "\t<tr><th scope=col>date</th><th scope=col>cum_cases</th></tr>\n",
       "\t<tr><th scope=col>&lt;date&gt;</th><th scope=col>&lt;dbl&gt;</th></tr>\n",
       "</thead>\n",
       "<tbody>\n",
       "\t<tr><td>2020-01-22</td><td> 555</td></tr>\n",
       "\t<tr><td>2020-01-23</td><td> 653</td></tr>\n",
       "\t<tr><td>2020-01-24</td><td> 941</td></tr>\n",
       "\t<tr><td>2020-01-25</td><td>1434</td></tr>\n",
       "\t<tr><td>2020-01-26</td><td>2118</td></tr>\n",
       "\t<tr><td>2020-01-27</td><td>2927</td></tr>\n",
       "</tbody>\n",
       "</table>\n"
      ],
      "text/latex": [
       "A tibble: 6 × 2\n",
       "\\begin{tabular}{ll}\n",
       " date & cum\\_cases\\\\\n",
       " <date> & <dbl>\\\\\n",
       "\\hline\n",
       "\t 2020-01-22 &  555\\\\\n",
       "\t 2020-01-23 &  653\\\\\n",
       "\t 2020-01-24 &  941\\\\\n",
       "\t 2020-01-25 & 1434\\\\\n",
       "\t 2020-01-26 & 2118\\\\\n",
       "\t 2020-01-27 & 2927\\\\\n",
       "\\end{tabular}\n"
      ],
      "text/markdown": [
       "\n",
       "A tibble: 6 × 2\n",
       "\n",
       "| date &lt;date&gt; | cum_cases &lt;dbl&gt; |\n",
       "|---|---|\n",
       "| 2020-01-22 |  555 |\n",
       "| 2020-01-23 |  653 |\n",
       "| 2020-01-24 |  941 |\n",
       "| 2020-01-25 | 1434 |\n",
       "| 2020-01-26 | 2118 |\n",
       "| 2020-01-27 | 2927 |\n",
       "\n"
      ],
      "text/plain": [
       "  date       cum_cases\n",
       "1 2020-01-22  555     \n",
       "2 2020-01-23  653     \n",
       "3 2020-01-24  941     \n",
       "4 2020-01-25 1434     \n",
       "5 2020-01-26 2118     \n",
       "6 2020-01-27 2927     "
      ]
     },
     "metadata": {},
     "output_type": "display_data"
    }
   ],
   "source": [
    "head(confirmed_cases_worldwide)"
   ]
  },
  {
   "cell_type": "code",
   "execution_count": 8,
   "metadata": {},
   "outputs": [
    {
     "data": {
      "image/png": "[encoded data removed]",
      "text/plain": [
       "plot without title"
      ]
     },
     "metadata": {
      "image/png": {
       "height": 420,
       "width": 420
      }
     },
     "output_type": "display_data"
    }
   ],
   "source": [
    "# Draw a line plot of cumulative cases vs. date\n",
    "# Label the y-axis\n",
    "confirmed_cases_worldwide %>%\n",
    "  ggplot(aes(x= date, y= cum_cases)) +\n",
    "    geom_line() +\n",
    "    labs(y= \"Cumulative confirmed cases\")"
   ]
  },
  {
   "cell_type": "code",
   "execution_count": 9,
   "metadata": {},
   "outputs": [
    {
     "name": "stderr",
     "output_type": "stream",
     "text": [
      "\u001b[1m\u001b[1mRows: \u001b[1m\u001b[22m\u001b[34m\u001b[34m112\u001b[34m\u001b[39m \u001b[1m\u001b[1mColumns: \u001b[1m\u001b[22m\u001b[34m\u001b[34m4\u001b[34m\u001b[39m\n",
      "\n",
      "\u001b[36m--\u001b[39m \u001b[1m\u001b[1mColumn specification\u001b[1m\u001b[22m \u001b[36m------------------------------------------------------------------------------------------------\u001b[39m\n",
      "\u001b[1mDelimiter:\u001b[22m \",\"\n",
      "\u001b[31mchr\u001b[39m  (1): is_china\n",
      "\u001b[32mdbl\u001b[39m  (2): cases, cum_cases\n",
      "\u001b[34mdate\u001b[39m (1): date\n",
      "\n",
      "\n",
      "\u001b[36mi\u001b[39m Use \u001b[30m\u001b[47m\u001b[30m\u001b[47m`spec()`\u001b[47m\u001b[30m\u001b[49m\u001b[39m to retrieve the full column specification for this data.\n",
      "\u001b[36mi\u001b[39m Specify the column types or set \u001b[30m\u001b[47m\u001b[30m\u001b[47m`show_col_types = FALSE`\u001b[47m\u001b[30m\u001b[49m\u001b[39m to quiet this message.\n",
      "\n"
     ]
    }
   ],
   "source": [
    "confirmed_cases_china_vs_world <- read_csv(\"datasets/confirmed_cases_china_vs_world.csv\")"
   ]
  },
  {
   "cell_type": "code",
   "execution_count": 10,
   "metadata": {},
   "outputs": [
    {
     "name": "stdout",
     "output_type": "stream",
     "text": [
      "Rows: 112\n",
      "Columns: 4\n",
      "$ is_china  \u001b[3m\u001b[90m<chr>\u001b[39m\u001b[23m \"China\", \"China\", \"China\", \"China\", \"China\", \"China\", \"China~\n",
      "$ date      \u001b[3m\u001b[90m<date>\u001b[39m\u001b[23m 2020-01-22, 2020-01-23, 2020-01-24, 2020-01-25, 2020-01-26,~\n",
      "$ cases     \u001b[3m\u001b[90m<dbl>\u001b[39m\u001b[23m 548, 95, 277, 486, 669, 802, 2632, 578, 2054, 1661, 2089, 47~\n",
      "$ cum_cases \u001b[3m\u001b[90m<dbl>\u001b[39m\u001b[23m 548, 643, 920, 1406, 2075, 2877, 5509, 6087, 8141, 9802, 118~\n"
     ]
    }
   ],
   "source": [
    "glimpse(confirmed_cases_china_vs_world)"
   ]
  },
  {
   "cell_type": "code",
   "execution_count": 11,
   "metadata": {},
   "outputs": [],
   "source": [
    "# Draw a line plot of cumulative cases vs. date, grouped and colored by is_china\n",
    "# Define aesthetics within the line geom\n",
    "plt_cum_confirmed_cases_china_vs_world <- ggplot(confirmed_cases_china_vs_world) +\n",
    "                                            geom_line(aes(x= date, y= cum_cases, group= is_china, color= is_china)) +\n",
    "                                            ylab(\"Cumulative confirmed cases\")"
   ]
  },
  {
   "cell_type": "code",
   "execution_count": 12,
   "metadata": {},
   "outputs": [
    {
     "data": {
      "image/png": "[encoded data removed]",
      "text/plain": [
       "plot without title"
      ]
     },
     "metadata": {
      "image/png": {
       "height": 420,
       "width": 420
      }
     },
     "output_type": "display_data"
    }
   ],
   "source": [
    "plt_cum_confirmed_cases_china_vs_world"
   ]
  },
  {
   "cell_type": "markdown",
   "metadata": {},
   "source": [
    "- The two lines have very different shapes. In February, the majority of cases were in China. That changed in March when it really became a global outbreak: around March 14, the total number of cases outside China overtook the cases inside China. This was days after the WHO declared a pandemic. There were a couple of other landmark events that happened during the outbreak."
   ]
  },
  {
   "cell_type": "code",
   "execution_count": 13,
   "metadata": {},
   "outputs": [],
   "source": [
    "who_events <- tribble(\n",
    "  ~ date, ~ event,\n",
    "  \"2020-01-30\", \"Global health\\nemergency declared\",\n",
    "  \"2020-03-11\", \"Pandemic\\ndeclared\",\n",
    "  \"2020-02-13\", \"China reporting\\nchange\"\n",
    ") %>%\n",
    "  mutate(date = as.Date(date))"
   ]
  },
  {
   "cell_type": "code",
   "execution_count": 14,
   "metadata": {},
   "outputs": [
    {
     "data": {
      "image/png": "[encoded data removed]",
      "text/plain": [
       "plot without title"
      ]
     },
     "metadata": {
      "image/png": {
       "height": 420,
       "width": 420
      }
     },
     "output_type": "display_data"
    }
   ],
   "source": [
    "# Using who_events, add vertical dashed lines with an xintercept at date\n",
    "# and text at date, labeled by event, and at 100000 on the y-axis\n",
    "plt_cum_confirmed_cases_china_vs_world +\n",
    "  geom_vline(data= who_events, aes(xintercept= date), linetype= \"dashed\")+\n",
    "  geom_text(data= who_events, aes(x=date, label=event), y=100000, size= 3)"
   ]
  },
  {
   "cell_type": "code",
   "execution_count": 15,
   "metadata": {},
   "outputs": [],
   "source": [
    "china_after_feb15 <- confirmed_cases_china_vs_world %>%\n",
    "  filter(is_china==\"China\", date >= \"2020-02-15\")"
   ]
  },
  {
   "cell_type": "markdown",
   "metadata": {},
   "source": [
    "- There is a clear surge of cases around February 13, 2020, with the reporting change in China. However, a couple of days after, the growth of cases in China slows down. \n",
    "- How can we describe COVID-19's growth in China after February 15, 2020?\n"
   ]
  },
  {
   "cell_type": "code",
   "execution_count": 16,
   "metadata": {},
   "outputs": [],
   "source": [
    "# Filter for China, from Feb 15\n",
    "china_after_feb15 <- confirmed_cases_china_vs_world %>%\n",
    "  filter(is_china==\"China\", date >= \"2020-02-15\")"
   ]
  },
  {
   "cell_type": "markdown",
   "metadata": {},
   "source": [
    "- The growth rate in China is slower than linear. That's great news because it indicates China has at least somewhat contained the virus in late February and early March."
   ]
  },
  {
   "cell_type": "code",
   "execution_count": 17,
   "metadata": {},
   "outputs": [
    {
     "name": "stderr",
     "output_type": "stream",
     "text": [
      "`geom_smooth()` using formula 'y ~ x'\n",
      "\n"
     ]
    },
    {
     "data": {
      "image/png": "[encoded data removed]",
      "text/plain": [
       "plot without title"
      ]
     },
     "metadata": {
      "image/png": {
       "height": 420,
       "width": 420
      }
     },
     "output_type": "display_data"
    }
   ],
   "source": [
    "china_after_feb15 %>%\n",
    "  ggplot(aes(x= date, y= cum_cases))+\n",
    "    geom_line()+\n",
    "    geom_smooth(method= \"lm\", se= F)+\n",
    "  ylab(\"Cumulative confirmed cases\")"
   ]
  },
  {
   "cell_type": "markdown",
   "metadata": {},
   "source": [
    "- How does the rest of the world compare to linear growth?"
   ]
  },
  {
   "cell_type": "code",
   "execution_count": 18,
   "metadata": {},
   "outputs": [],
   "source": [
    "# Filter confirmed_cases_china_vs_world for not China\n",
    "confirmed_cases_china_vs_world %>%\n",
    " filter(is_china!=\"China\", date>= 2020-02-15) -> not_china"
   ]
  },
  {
   "cell_type": "code",
   "execution_count": 19,
   "metadata": {},
   "outputs": [
    {
     "name": "stderr",
     "output_type": "stream",
     "text": [
      "`geom_smooth()` using formula 'y ~ x'\n",
      "\n"
     ]
    },
    {
     "data": {
      "image/png": "[encoded data removed]",
      "text/plain": [
       "plot without title"
      ]
     },
     "metadata": {
      "image/png": {
       "height": 420,
       "width": 420
      }
     },
     "output_type": "display_data"
    }
   ],
   "source": [
    "plt_not_china_trend_lin <- not_china %>%\n",
    "  ggplot(aes(x= date, y=cum_cases))+\n",
    "    geom_line()+\n",
    "    geom_smooth(method= \"lm\", se=F)+\n",
    "  ylab(\"Cumulative confirmed cases\")\n",
    "\n",
    "# See the result\n",
    "plt_not_china_trend_lin "
   ]
  },
  {
   "cell_type": "markdown",
   "metadata": {},
   "source": [
    "- we can see a straight line does not fit well at all, and the rest of the world is growing much faster than linearly. \n",
    "- What if we added a logarithmic scale to the y-axis?"
   ]
  },
  {
   "cell_type": "code",
   "execution_count": 21,
   "metadata": {},
   "outputs": [
    {
     "name": "stderr",
     "output_type": "stream",
     "text": [
      "`geom_smooth()` using formula 'y ~ x'\n",
      "\n"
     ]
    },
    {
     "data": {
      "image/png": "[encoded data removed]",
      "text/plain": [
       "plot without title"
      ]
     },
     "metadata": {
      "image/png": {
       "height": 420,
       "width": 420
      }
     },
     "output_type": "display_data"
    }
   ],
   "source": [
    "# Modify the plot to use a logarithmic scale on the y-axis\n",
    "plt_not_china_trend_lin + \n",
    "  scale_y_log10()"
   ]
  },
  {
   "cell_type": "markdown",
   "metadata": {},
   "source": [
    "- With the logarithmic scale, we get a much closer fit to the data. From a data science point of view, a good fit is great news. \n",
    "- Unfortunately, from a public health point of view, that means that cases of COVID-19 in the rest of the world are growing at an exponential rate, which is terrible news.\n",
    "- Not all countries are being affected by COVID-19 equally, and it would be helpful to know where in the world the problems are greatest. \n",
    "- Let's find the countries outside of China with the most confirmed cases in our dataset."
   ]
  },
  {
   "cell_type": "code",
   "execution_count": 22,
   "metadata": {},
   "outputs": [
    {
     "name": "stderr",
     "output_type": "stream",
     "text": [
      "\u001b[1m\u001b[1mRows: \u001b[1m\u001b[22m\u001b[34m\u001b[34m13272\u001b[34m\u001b[39m \u001b[1m\u001b[1mColumns: \u001b[1m\u001b[22m\u001b[34m\u001b[34m5\u001b[34m\u001b[39m\n",
      "\n",
      "\u001b[36m--\u001b[39m \u001b[1m\u001b[1mColumn specification\u001b[1m\u001b[22m \u001b[36m------------------------------------------------------------------------------------------------\u001b[39m\n",
      "\u001b[1mDelimiter:\u001b[22m \",\"\n",
      "\u001b[31mchr\u001b[39m  (2): country, province\n",
      "\u001b[32mdbl\u001b[39m  (2): cases, cum_cases\n",
      "\u001b[34mdate\u001b[39m (1): date\n",
      "\n",
      "\n",
      "\u001b[36mi\u001b[39m Use \u001b[30m\u001b[47m\u001b[30m\u001b[47m`spec()`\u001b[47m\u001b[30m\u001b[49m\u001b[39m to retrieve the full column specification for this data.\n",
      "\u001b[36mi\u001b[39m Specify the column types or set \u001b[30m\u001b[47m\u001b[30m\u001b[47m`show_col_types = FALSE`\u001b[47m\u001b[30m\u001b[49m\u001b[39m to quiet this message.\n",
      "\n"
     ]
    },
    {
     "name": "stdout",
     "output_type": "stream",
     "text": [
      "Rows: 13,272\n",
      "Columns: 5\n",
      "$ country   \u001b[3m\u001b[90m<chr>\u001b[39m\u001b[23m \"Afghanistan\", \"Albania\", \"Algeria\", \"Andorra\", \"Antigua and~\n",
      "$ province  \u001b[3m\u001b[90m<chr>\u001b[39m\u001b[23m NA, NA, NA, NA, NA, NA, NA, NA, NA, NA, NA, NA, NA, NA, NA, ~\n",
      "$ date      \u001b[3m\u001b[90m<date>\u001b[39m\u001b[23m 2020-01-22, 2020-01-22, 2020-01-22, 2020-01-22, 2020-01-22,~\n",
      "$ cases     \u001b[3m\u001b[90m<dbl>\u001b[39m\u001b[23m 0, 0, 0, 0, 0, 0, 0, 0, 0, 0, 0, 0, 0, 0, 0, 0, 0, 0, 0, 0, ~\n",
      "$ cum_cases \u001b[3m\u001b[90m<dbl>\u001b[39m\u001b[23m 0, 0, 0, 0, 0, 0, 0, 0, 0, 0, 0, 0, 0, 0, 0, 0, 0, 0, 0, 0, ~\n"
     ]
    }
   ],
   "source": [
    "confirmed_cases_by_country <- read_csv(\"datasets/confirmed_cases_by_country.csv\")\n",
    "glimpse(confirmed_cases_by_country)"
   ]
  },
  {
   "cell_type": "code",
   "execution_count": 24,
   "metadata": {},
   "outputs": [],
   "source": [
    "# Group by country, summarize to calculate total cases, find the top 7\n",
    "top_countries_by_total_cases <- confirmed_cases_by_country %>%\n",
    "  group_by(country) %>%\n",
    "  summarize(total_cases = max(cum_cases)) %>%\n",
    "  top_n(7, total_cases)"
   ]
  },
  {
   "cell_type": "code",
   "execution_count": 25,
   "metadata": {},
   "outputs": [
    {
     "data": {
      "text/html": [
       "<table class=\"dataframe\">\n",
       "<caption>A tibble: 7 × 2</caption>\n",
       "<thead>\n",
       "\t<tr><th scope=col>country</th><th scope=col>total_cases</th></tr>\n",
       "\t<tr><th scope=col>&lt;chr&gt;</th><th scope=col>&lt;dbl&gt;</th></tr>\n",
       "</thead>\n",
       "<tbody>\n",
       "\t<tr><td>Italy       </td><td>31506</td></tr>\n",
       "\t<tr><td>Iran        </td><td>16169</td></tr>\n",
       "\t<tr><td>Spain       </td><td>11748</td></tr>\n",
       "\t<tr><td>Germany     </td><td> 9257</td></tr>\n",
       "\t<tr><td>Korea, South</td><td> 8320</td></tr>\n",
       "\t<tr><td>France      </td><td> 7699</td></tr>\n",
       "\t<tr><td>US          </td><td> 6421</td></tr>\n",
       "</tbody>\n",
       "</table>\n"
      ],
      "text/latex": [
       "A tibble: 7 × 2\n",
       "\\begin{tabular}{ll}\n",
       " country & total\\_cases\\\\\n",
       " <chr> & <dbl>\\\\\n",
       "\\hline\n",
       "\t Italy        & 31506\\\\\n",
       "\t Iran         & 16169\\\\\n",
       "\t Spain        & 11748\\\\\n",
       "\t Germany      &  9257\\\\\n",
       "\t Korea, South &  8320\\\\\n",
       "\t France       &  7699\\\\\n",
       "\t US           &  6421\\\\\n",
       "\\end{tabular}\n"
      ],
      "text/markdown": [
       "\n",
       "A tibble: 7 × 2\n",
       "\n",
       "| country &lt;chr&gt; | total_cases &lt;dbl&gt; |\n",
       "|---|---|\n",
       "| Italy        | 31506 |\n",
       "| Iran         | 16169 |\n",
       "| Spain        | 11748 |\n",
       "| Germany      |  9257 |\n",
       "| Korea, South |  8320 |\n",
       "| France       |  7699 |\n",
       "| US           |  6421 |\n",
       "\n"
      ],
      "text/plain": [
       "  country      total_cases\n",
       "1 Italy        31506      \n",
       "2 Iran         16169      \n",
       "3 Spain        11748      \n",
       "4 Germany       9257      \n",
       "5 Korea, South  8320      \n",
       "6 France        7699      \n",
       "7 US            6421      "
      ]
     },
     "metadata": {},
     "output_type": "display_data"
    }
   ],
   "source": [
    "# See the result\n",
    "arrange(top_countries_by_total_cases,desc(total_cases))"
   ]
  },
  {
   "cell_type": "markdown",
   "metadata": {},
   "source": [
    "- Even though the outbreak was first identified in China, there is only one country from East Asia (South Korea) in the above table.\n",
    "- Four of the listed countries (France, Germany, Italy, and Spain) are in Europe and share borders. To get more context, we can plot these countries' confirmed cases over time."
   ]
  },
  {
   "cell_type": "code",
   "execution_count": 26,
   "metadata": {},
   "outputs": [
    {
     "name": "stderr",
     "output_type": "stream",
     "text": [
      "\u001b[1m\u001b[1mRows: \u001b[1m\u001b[22m\u001b[34m\u001b[34m2030\u001b[34m\u001b[39m \u001b[1m\u001b[1mColumns: \u001b[1m\u001b[22m\u001b[34m\u001b[34m3\u001b[34m\u001b[39m\n",
      "\n",
      "\u001b[36m--\u001b[39m \u001b[1m\u001b[1mColumn specification\u001b[1m\u001b[22m \u001b[36m------------------------------------------------------------------------------------------------\u001b[39m\n",
      "\u001b[1mDelimiter:\u001b[22m \",\"\n",
      "\u001b[31mchr\u001b[39m  (1): country\n",
      "\u001b[32mdbl\u001b[39m  (1): cum_cases\n",
      "\u001b[34mdate\u001b[39m (1): date\n",
      "\n",
      "\n",
      "\u001b[36mi\u001b[39m Use \u001b[30m\u001b[47m\u001b[30m\u001b[47m`spec()`\u001b[47m\u001b[30m\u001b[49m\u001b[39m to retrieve the full column specification for this data.\n",
      "\u001b[36mi\u001b[39m Specify the column types or set \u001b[30m\u001b[47m\u001b[30m\u001b[47m`show_col_types = FALSE`\u001b[47m\u001b[30m\u001b[49m\u001b[39m to quiet this message.\n",
      "\n"
     ]
    }
   ],
   "source": [
    "# Run this to get the data for the top 7 countries\n",
    "confirmed_cases_top7_outside_china <- read_csv(\"datasets/confirmed_cases_top7_outside_china.csv\")"
   ]
  },
  {
   "cell_type": "code",
   "execution_count": 27,
   "metadata": {},
   "outputs": [
    {
     "name": "stdout",
     "output_type": "stream",
     "text": [
      "Rows: 2,030\n",
      "Columns: 3\n",
      "$ country   \u001b[3m\u001b[90m<chr>\u001b[39m\u001b[23m \"Germany\", \"Iran\", \"Italy\", \"Korea, South\", \"Spain\", \"US\", \"~\n",
      "$ date      \u001b[3m\u001b[90m<date>\u001b[39m\u001b[23m 2020-02-18, 2020-02-18, 2020-02-18, 2020-02-18, 2020-02-18,~\n",
      "$ cum_cases \u001b[3m\u001b[90m<dbl>\u001b[39m\u001b[23m 16, 0, 3, 31, 2, 13, 13, 13, 13, 13, 13, 13, 13, 13, 13, 13,~\n"
     ]
    },
    {
     "data": {
      "image/png": "[encoded data removed]",
      "text/plain": [
       "plot without title"
      ]
     },
     "metadata": {
      "image/png": {
       "height": 420,
       "width": 420
      }
     },
     "output_type": "display_data"
    }
   ],
   "source": [
    "glimpse(confirmed_cases_top7_outside_china)\n",
    "\n",
    "# Using confirmed_cases_top7_outside_china, draw a line plot of\n",
    "# cum_cases vs. date, grouped and colored by country\n",
    "confirmed_cases_top7_outside_china %>%\n",
    "ggplot(aes(x= date, y= cum_cases, group= country, color= country))+\n",
    "  geom_line()+\n",
    "ylab(\"Cumulative confirmed cases\")"
   ]
  },
  {
   "cell_type": "markdown",
   "metadata": {},
   "source": [
    "## Result"
   ]
  },
  {
   "cell_type": "markdown",
   "metadata": {},
   "source": [
    "we analyze data before the whole world pandamic (March 2020). And We found that China control their confirmed cases well, however, other countries didn't. Other countries just began and exploded after March which is what we know for now."
   ]
  },
  {
   "cell_type": "code",
   "execution_count": null,
   "metadata": {},
   "outputs": [],
   "source": []
  }
 ],
 "metadata": {
  "kernelspec": {
   "display_name": "R",
   "language": "R",
   "name": "ir"
  },
  "language_info": {
   "codemirror_mode": "r",
   "file_extension": ".r",
   "mimetype": "text/x-r-source",
   "name": "R",
   "pygments_lexer": "r",
   "version": "4.0.5"
  }
 },
 "nbformat": 4,
 "nbformat_minor": 4
}
